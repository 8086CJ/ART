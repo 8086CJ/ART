{
 "cells": [
  {
   "cell_type": "code",
   "execution_count": 1,
   "id": "ed2bedb8",
   "metadata": {},
   "outputs": [],
   "source": [
    "%load_ext autoreload\n",
    "%autoreload 2"
   ]
  },
  {
   "cell_type": "code",
   "execution_count": 2,
   "id": "8d0300f3",
   "metadata": {},
   "outputs": [
    {
     "data": {
      "text/html": [
       "<style>\n",
       ".cell-output-ipywidget-background {\n",
       "    background-color: transparent !important;\n",
       "}\n",
       ":root {\n",
       "    --jp-widgets-color: var(--vscode-editor-foreground);\n",
       "    --jp-widgets-font-size: var(--vscode-editor-font-size);\n",
       "}  \n",
       "</style>\n"
      ],
      "text/plain": [
       "<IPython.core.display.HTML object>"
      ]
     },
     "metadata": {},
     "output_type": "display_data"
    }
   ],
   "source": [
    "%%html\n",
    "<style>\n",
    ".cell-output-ipywidget-background {\n",
    "    background-color: transparent !important;\n",
    "}\n",
    ":root {\n",
    "    --jp-widgets-color: var(--vscode-editor-foreground);\n",
    "    --jp-widgets-font-size: var(--vscode-editor-font-size);\n",
    "}  \n",
    "</style>"
   ]
  },
  {
   "cell_type": "code",
   "execution_count": null,
   "id": "11f14c1b",
   "metadata": {},
   "outputs": [
    {
     "name": "stderr",
     "output_type": "stream",
     "text": [
      "\u001b[34m\u001b[1mwandb\u001b[0m: Currently logged in as: \u001b[33mbradhilton\u001b[0m to \u001b[32mhttps://api.wandb.ai\u001b[0m. Use \u001b[1m`wandb login --relogin`\u001b[0m to force relogin\n"
     ]
    },
    {
     "data": {
      "text/html": [
       "Tracking run with wandb version 0.20.1"
      ],
      "text/plain": [
       "<IPython.core.display.HTML object>"
      ]
     },
     "metadata": {},
     "output_type": "display_data"
    },
    {
     "data": {
      "text/html": [
       "Run data is saved locally in <code>/home/ubuntu/sky_workdir/dev/tau-bench/wandb/run-20250703_170714-002</code>"
      ],
      "text/plain": [
       "<IPython.core.display.HTML object>"
      ]
     },
     "metadata": {},
     "output_type": "display_data"
    },
    {
     "data": {
      "text/html": [
       "Resuming run <strong><a href='https://wandb.ai/bradhilton/tau-bench/runs/002' target=\"_blank\">002</a></strong> to <a href='https://wandb.ai/bradhilton/tau-bench' target=\"_blank\">Weights & Biases</a> (<a href='https://wandb.me/developer-guide' target=\"_blank\">docs</a>)<br>"
      ],
      "text/plain": [
       "<IPython.core.display.HTML object>"
      ]
     },
     "metadata": {},
     "output_type": "display_data"
    },
    {
     "data": {
      "text/html": [
       " View project at <a href='https://wandb.ai/bradhilton/tau-bench' target=\"_blank\">https://wandb.ai/bradhilton/tau-bench</a>"
      ],
      "text/plain": [
       "<IPython.core.display.HTML object>"
      ]
     },
     "metadata": {},
     "output_type": "display_data"
    },
    {
     "data": {
      "text/html": [
       " View run at <a href='https://wandb.ai/bradhilton/tau-bench/runs/002' target=\"_blank\">https://wandb.ai/bradhilton/tau-bench/runs/002</a>"
      ],
      "text/plain": [
       "<IPython.core.display.HTML object>"
      ]
     },
     "metadata": {},
     "output_type": "display_data"
    },
    {
     "name": "stdout",
     "output_type": "stream",
     "text": [
      "INFO 07-03 17:07:19 [__init__.py:244] Automatically detected platform cuda.\n",
      "WARNING 07-03 17:07:25 [env_override.py:17] NCCL_CUMEM_ENABLE is set to 0, skipping override. This may increase memory overhead with cudagraph+allreduce: https://github.com/NVIDIA/nccl/issues/1234\n",
      "INFO 07-03 17:07:26 [__init__.py:244] Automatically detected platform cuda.\n",
      "/home/ubuntu/.cache/huggingface/hub/models--Qwen--Qwen2.5-14B-Instruct/snapshots/cf98f3b3bbb457ad9e2bb7baf9a0125b6b88caa8\n",
      "INFO 07-03 17:07:37 [config.py:823] This model supports multiple tasks: {'embed', 'score', 'reward', 'classify', 'generate'}. Defaulting to 'generate'.\n",
      "INFO 07-03 17:07:37 [config.py:1946] Defaulting to use mp for distributed inference\n",
      "INFO 07-03 17:07:37 [config.py:2195] Chunked prefill is enabled with max_num_batched_tokens=2048.\n",
      "WARNING 07-03 17:07:37 [utils.py:2597] We must use the `spawn` multiprocessing start method. Overriding VLLM_WORKER_MULTIPROC_METHOD to 'spawn'. See https://docs.vllm.ai/en/latest/usage/troubleshooting.html#python-multiprocessing for more information. Reason: CUDA is initialized\n",
      "WARNING 07-03 17:07:38 [env_override.py:17] NCCL_CUMEM_ENABLE is set to 0, skipping override. This may increase memory overhead with cudagraph+allreduce: https://github.com/NVIDIA/nccl/issues/1234\n",
      "INFO 07-03 17:07:40 [__init__.py:244] Automatically detected platform cuda.\n",
      "INFO 07-03 17:07:43 [core.py:455] Waiting for init message from front-end.\n",
      "INFO 07-03 17:07:43 [core.py:70] Initializing a V1 LLM engine (v0.9.1) with config: model='Qwen/Qwen2.5-14B-Instruct', speculative_config=None, tokenizer='Qwen/Qwen2.5-14B-Instruct', skip_tokenizer_init=False, tokenizer_mode=auto, revision=None, override_neuron_config={}, tokenizer_revision=None, trust_remote_code=False, dtype=torch.bfloat16, max_seq_len=32768, download_dir=None, load_format=LoadFormat.AUTO, tensor_parallel_size=4, pipeline_parallel_size=1, disable_custom_all_reduce=False, quantization=None, enforce_eager=False, kv_cache_dtype=auto,  device_config=cuda, decoding_config=DecodingConfig(backend='auto', disable_fallback=False, disable_any_whitespace=False, disable_additional_properties=False, reasoning_backend=''), observability_config=ObservabilityConfig(show_hidden_metrics_for_version=None, otlp_traces_endpoint=None, collect_detailed_traces=None), seed=0, served_model_name=Qwen/Qwen2.5-14B-Instruct, num_scheduler_steps=1, multi_step_stream_outputs=True, enable_prefix_caching=True, chunked_prefill_enabled=True, use_async_output_proc=True, pooler_config=None, compilation_config={\"level\":3,\"debug_dump_path\":\"\",\"cache_dir\":\"\",\"backend\":\"\",\"custom_ops\":[\"none\"],\"splitting_ops\":[\"vllm.unified_attention\",\"vllm.unified_attention_with_output\"],\"use_inductor\":true,\"compile_sizes\":[],\"inductor_compile_config\":{\"enable_auto_functionalized_v2\":false},\"inductor_passes\":{},\"use_cudagraph\":true,\"cudagraph_num_of_warmups\":1,\"cudagraph_capture_sizes\":[512,504,496,488,480,472,464,456,448,440,432,424,416,408,400,392,384,376,368,360,352,344,336,328,320,312,304,296,288,280,272,264,256,248,240,232,224,216,208,200,192,184,176,168,160,152,144,136,128,120,112,104,96,88,80,72,64,56,48,40,32,24,16,8,4,2,1],\"cudagraph_copy_inputs\":false,\"full_cuda_graph\":false,\"max_capture_size\":512,\"local_cache_dir\":null}\n",
      "WARNING 07-03 17:07:43 [multiproc_worker_utils.py:307] Reducing Torch parallelism from 52 threads to 1 to avoid unnecessary CPU contention. Set OMP_NUM_THREADS in the external environment to tune this value as needed.\n",
      "INFO 07-03 17:07:43 [shm_broadcast.py:289] vLLM message queue communication handle: Handle(local_reader_ranks=[0, 1, 2, 3], buffer_handle=(4, 16777216, 10, 'psm_ed5cb4b0'), local_subscribe_addr='ipc:///tmp/cf6d78a7-9570-4a22-855a-829c5344b8d5', remote_subscribe_addr=None, remote_addr_ipv6=False)\n",
      "WARNING 07-03 17:07:44 [env_override.py:17] NCCL_CUMEM_ENABLE is set to 0, skipping override. This may increase memory overhead with cudagraph+allreduce: https://github.com/NVIDIA/nccl/issues/1234\n",
      "WARNING 07-03 17:07:44 [env_override.py:17] NCCL_CUMEM_ENABLE is set to 0, skipping override. This may increase memory overhead with cudagraph+allreduce: https://github.com/NVIDIA/nccl/issues/1234\n",
      "WARNING 07-03 17:07:44 [env_override.py:17] NCCL_CUMEM_ENABLE is set to 0, skipping override. This may increase memory overhead with cudagraph+allreduce: https://github.com/NVIDIA/nccl/issues/1234\n",
      "WARNING 07-03 17:07:44 [env_override.py:17] NCCL_CUMEM_ENABLE is set to 0, skipping override. This may increase memory overhead with cudagraph+allreduce: https://github.com/NVIDIA/nccl/issues/1234\n",
      "INFO 07-03 17:07:46 [__init__.py:244] Automatically detected platform cuda.\n",
      "INFO 07-03 17:07:46 [__init__.py:244] Automatically detected platform cuda.\n",
      "INFO 07-03 17:07:46 [__init__.py:244] Automatically detected platform cuda.\n",
      "INFO 07-03 17:07:46 [__init__.py:244] Automatically detected platform cuda.\n",
      "INFO 07-03 17:07:50 [worker_base.py:590] Injected <class 'art.vllm.engine.WorkerExtension'> into <class 'vllm.v1.worker.gpu_worker.Worker'> for extended collective_rpc calls ['run', 'time']\n",
      "WARNING 07-03 17:07:50 [utils.py:2737] Methods determine_num_available_blocks,device_config,get_cache_block_size_bytes,initialize_cache not implemented in <vllm.v1.worker.gpu_worker.Worker object at 0x7b8c6dac1ad0>\n",
      "\u001b[1;36m(VllmWorker rank=1 pid=50020)\u001b[0;0m INFO 07-03 17:07:50 [shm_broadcast.py:289] vLLM message queue communication handle: Handle(local_reader_ranks=[0], buffer_handle=(1, 10485760, 10, 'psm_09bcfad4'), local_subscribe_addr='ipc:///tmp/e4a32d21-0478-42fc-bd63-7735fcd7ec18', remote_subscribe_addr=None, remote_addr_ipv6=False)\n",
      "INFO 07-03 17:07:50 [worker_base.py:590] Injected <class 'art.vllm.engine.WorkerExtension'> into <class 'vllm.v1.worker.gpu_worker.Worker'> for extended collective_rpc calls ['run', 'time']\n",
      "INFO 07-03 17:07:50 [worker_base.py:590] Injected <class 'art.vllm.engine.WorkerExtension'> into <class 'vllm.v1.worker.gpu_worker.Worker'> for extended collective_rpc calls ['run', 'time']\n",
      "WARNING 07-03 17:07:50 [utils.py:2737] Methods determine_num_available_blocks,device_config,get_cache_block_size_bytes,initialize_cache not implemented in <vllm.v1.worker.gpu_worker.Worker object at 0x72239cfaea50>\n",
      "INFO 07-03 17:07:50 [worker_base.py:590] Injected <class 'art.vllm.engine.WorkerExtension'> into <class 'vllm.v1.worker.gpu_worker.Worker'> for extended collective_rpc calls ['run', 'time']\n",
      "WARNING 07-03 17:07:50 [utils.py:2737] Methods determine_num_available_blocks,device_config,get_cache_block_size_bytes,initialize_cache not implemented in <vllm.v1.worker.gpu_worker.Worker object at 0x75b83e1bbd50>\n",
      "\u001b[1;36m(VllmWorker rank=3 pid=50024)\u001b[0;0m INFO 07-03 17:07:50 [shm_broadcast.py:289] vLLM message queue communication handle: Handle(local_reader_ranks=[0], buffer_handle=(1, 10485760, 10, 'psm_c2bf4b3e'), local_subscribe_addr='ipc:///tmp/f5e125e6-1540-4b9d-9777-5a875a12179c', remote_subscribe_addr=None, remote_addr_ipv6=False)\n",
      "\u001b[1;36m(VllmWorker rank=0 pid=50019)\u001b[0;0m INFO 07-03 17:07:50 [shm_broadcast.py:289] vLLM message queue communication handle: Handle(local_reader_ranks=[0], buffer_handle=(1, 10485760, 10, 'psm_afa184ae'), local_subscribe_addr='ipc:///tmp/4fc1b650-23d3-4734-a4b7-b909e72560d6', remote_subscribe_addr=None, remote_addr_ipv6=False)\n",
      "WARNING 07-03 17:07:50 [utils.py:2737] Methods determine_num_available_blocks,device_config,get_cache_block_size_bytes,initialize_cache not implemented in <vllm.v1.worker.gpu_worker.Worker object at 0x7866dabcc090>\n",
      "\u001b[1;36m(VllmWorker rank=2 pid=50021)\u001b[0;0m INFO 07-03 17:07:50 [shm_broadcast.py:289] vLLM message queue communication handle: Handle(local_reader_ranks=[0], buffer_handle=(1, 10485760, 10, 'psm_9ce2e3d1'), local_subscribe_addr='ipc:///tmp/16c69e4c-56bf-459b-8a57-a993ba8c10fe', remote_subscribe_addr=None, remote_addr_ipv6=False)\n",
      "\u001b[1;36m(VllmWorker rank=0 pid=50019)\u001b[0;0m INFO 07-03 17:07:51 [utils.py:1126] Found nccl from library libnccl.so.2\n",
      "\u001b[1;36m(VllmWorker rank=1 pid=50020)\u001b[0;0m INFO 07-03 17:07:51 [utils.py:1126] Found nccl from library libnccl.so.2\n",
      "\u001b[1;36m(VllmWorker rank=0 pid=50019)\u001b[0;0m \u001b[1;36m(VllmWorker rank=1 pid=50020)\u001b[0;0m INFO 07-03 17:07:51 [pynccl.py:70] vLLM is using nccl==2.26.2\n",
      "INFO 07-03 17:07:51 [pynccl.py:70] vLLM is using nccl==2.26.2\n",
      "\u001b[1;36m(VllmWorker rank=2 pid=50021)\u001b[0;0m INFO 07-03 17:07:51 [utils.py:1126] Found nccl from library libnccl.so.2\n",
      "\u001b[1;36m(VllmWorker rank=3 pid=50024)\u001b[0;0m INFO 07-03 17:07:51 [utils.py:1126] Found nccl from library libnccl.so.2\n",
      "\u001b[1;36m(VllmWorker rank=2 pid=50021)\u001b[0;0m INFO 07-03 17:07:51 [pynccl.py:70] vLLM is using nccl==2.26.2\n",
      "\u001b[1;36m(VllmWorker rank=3 pid=50024)\u001b[0;0m INFO 07-03 17:07:51 [pynccl.py:70] vLLM is using nccl==2.26.2\n",
      "\u001b[1;36m(VllmWorker rank=0 pid=50019)\u001b[0;0m \u001b[1;36m(VllmWorker rank=2 pid=50021)\u001b[0;0m INFO 07-03 17:07:52 [custom_all_reduce_utils.py:246] reading GPU P2P access cache from /home/ubuntu/.cache/vllm/gpu_p2p_access_cache_for_0,1,2,3.json\n",
      "INFO 07-03 17:07:52 [custom_all_reduce_utils.py:246] reading GPU P2P access cache from /home/ubuntu/.cache/vllm/gpu_p2p_access_cache_for_0,1,2,3.json\n",
      "\u001b[1;36m(VllmWorker rank=1 pid=50020)\u001b[0;0m INFO 07-03 17:07:52 [custom_all_reduce_utils.py:246] reading GPU P2P access cache from /home/ubuntu/.cache/vllm/gpu_p2p_access_cache_for_0,1,2,3.json\n",
      "\u001b[1;36m(VllmWorker rank=3 pid=50024)\u001b[0;0m INFO 07-03 17:07:52 [custom_all_reduce_utils.py:246] reading GPU P2P access cache from /home/ubuntu/.cache/vllm/gpu_p2p_access_cache_for_0,1,2,3.json\n",
      "\u001b[1;36m(VllmWorker rank=0 pid=50019)\u001b[0;0m INFO 07-03 17:07:52 [shm_broadcast.py:289] vLLM message queue communication handle: Handle(local_reader_ranks=[1, 2, 3], buffer_handle=(3, 4194304, 6, 'psm_549d13f5'), local_subscribe_addr='ipc:///tmp/14c026c2-f158-406f-9d0f-bfcde7ed15dd', remote_subscribe_addr=None, remote_addr_ipv6=False)\n",
      "\u001b[1;36m(VllmWorker rank=0 pid=50019)\u001b[0;0m INFO 07-03 17:07:52 [parallel_state.py:1065] rank 0 in world size 4 is assigned as DP rank 0, PP rank 0, TP rank 0, EP rank 0\n",
      "\u001b[1;36m(VllmWorker rank=1 pid=50020)\u001b[0;0m INFO 07-03 17:07:52 [parallel_state.py:1065] rank 1 in world size 4 is assigned as DP rank 0, PP rank 0, TP rank 1, EP rank 1\n",
      "\u001b[1;36m(VllmWorker rank=3 pid=50024)\u001b[0;0m INFO 07-03 17:07:52 [parallel_state.py:1065] rank 3 in world size 4 is assigned as DP rank 0, PP rank 0, TP rank 3, EP rank 3\n",
      "\u001b[1;36m(VllmWorker rank=2 pid=50021)\u001b[0;0m INFO 07-03 17:07:52 [parallel_state.py:1065] rank 2 in world size 4 is assigned as DP rank 0, PP rank 0, TP rank 2, EP rank 2\n",
      "\u001b[1;36m(VllmWorker rank=0 pid=50019)\u001b[0;0m WARNING 07-03 17:07:52 [topk_topp_sampler.py:59] FlashInfer is not available. Falling back to the PyTorch-native implementation of top-p & top-k sampling. For the best performance, please install FlashInfer.\n",
      "\u001b[1;36m(VllmWorker rank=1 pid=50020)\u001b[0;0m WARNING 07-03 17:07:52 [topk_topp_sampler.py:59] FlashInfer is not available. Falling back to the PyTorch-native implementation of top-p & top-k sampling. For the best performance, please install FlashInfer.\n",
      "\u001b[1;36m(VllmWorker rank=3 pid=50024)\u001b[0;0m WARNING 07-03 17:07:52 [topk_topp_sampler.py:59] FlashInfer is not available. Falling back to the PyTorch-native implementation of top-p & top-k sampling. For the best performance, please install FlashInfer.\n",
      "\u001b[1;36m(VllmWorker rank=2 pid=50021)\u001b[0;0m WARNING 07-03 17:07:52 [topk_topp_sampler.py:59] FlashInfer is not available. Falling back to the PyTorch-native implementation of top-p & top-k sampling. For the best performance, please install FlashInfer.\n",
      "\u001b[1;36m(VllmWorker rank=1 pid=50020)\u001b[0;0m INFO 07-03 17:07:52 [gpu_model_runner.py:1595] Starting to load model Qwen/Qwen2.5-14B-Instruct...\n",
      "\u001b[1;36m(VllmWorker rank=2 pid=50021)\u001b[0;0m INFO 07-03 17:07:52 [gpu_model_runner.py:1595] Starting to load model Qwen/Qwen2.5-14B-Instruct...\n",
      "\u001b[1;36m(VllmWorker rank=3 pid=50024)\u001b[0;0m INFO 07-03 17:07:52 [gpu_model_runner.py:1595] Starting to load model Qwen/Qwen2.5-14B-Instruct...\n",
      "\u001b[1;36m(VllmWorker rank=0 pid=50019)\u001b[0;0m INFO 07-03 17:07:52 [gpu_model_runner.py:1595] Starting to load model Qwen/Qwen2.5-14B-Instruct...\n",
      "\u001b[1;36m(VllmWorker rank=1 pid=50020)\u001b[0;0m INFO 07-03 17:07:52 [gpu_model_runner.py:1600] Loading model from scratch...\n",
      "\u001b[1;36m(VllmWorker rank=2 pid=50021)\u001b[0;0m INFO 07-03 17:07:52 [gpu_model_runner.py:1600] Loading model from scratch...\n",
      "\u001b[1;36m(VllmWorker rank=0 pid=50019)\u001b[0;0m INFO 07-03 17:07:52 [gpu_model_runner.py:1600] Loading model from scratch...\n",
      "\u001b[1;36m(VllmWorker rank=3 pid=50024)\u001b[0;0m INFO 07-03 17:07:52 [gpu_model_runner.py:1600] Loading model from scratch...\n",
      "\u001b[1;36m(VllmWorker rank=1 pid=50020)\u001b[0;0m INFO 07-03 17:07:52 [cuda.py:252] Using Flash Attention backend on V1 engine.\n",
      "\u001b[1;36m(VllmWorker rank=0 pid=50019)\u001b[0;0m INFO 07-03 17:07:52 [cuda.py:252] Using Flash Attention backend on V1 engine.\n",
      "\u001b[1;36m(VllmWorker rank=2 pid=50021)\u001b[0;0m INFO 07-03 17:07:52 [cuda.py:252] Using Flash Attention backend on V1 engine.\n",
      "\u001b[1;36m(VllmWorker rank=3 pid=50024)\u001b[0;0m INFO 07-03 17:07:52 [cuda.py:252] Using Flash Attention backend on V1 engine.\n",
      "\u001b[1;36m(VllmWorker rank=3 pid=50024)\u001b[0;0m INFO 07-03 17:07:53 [weight_utils.py:292] Using model weights format ['*.safetensors']\n",
      "\u001b[1;36m(VllmWorker rank=1 pid=50020)\u001b[0;0m INFO 07-03 17:07:53 [weight_utils.py:292] Using model weights format ['*.safetensors']\n",
      "\u001b[1;36m(VllmWorker rank=2 pid=50021)\u001b[0;0m INFO 07-03 17:07:53 [weight_utils.py:292] Using model weights format ['*.safetensors']\n",
      "\u001b[1;36m(VllmWorker rank=0 pid=50019)\u001b[0;0m INFO 07-03 17:07:53 [weight_utils.py:292] Using model weights format ['*.safetensors']\n"
     ]
    },
    {
     "name": "stderr",
     "output_type": "stream",
     "text": [
      "Loading safetensors checkpoint shards:   0% Completed | 0/8 [00:00<?, ?it/s]\n",
      "Loading safetensors checkpoint shards:  25% Completed | 2/8 [00:00<00:01,  4.75it/s]\n",
      "Loading safetensors checkpoint shards:  38% Completed | 3/8 [00:00<00:01,  3.82it/s]\n",
      "Loading safetensors checkpoint shards:  50% Completed | 4/8 [00:01<00:01,  3.82it/s]\n",
      "Loading safetensors checkpoint shards:  62% Completed | 5/8 [00:01<00:00,  3.51it/s]\n",
      "Loading safetensors checkpoint shards:  75% Completed | 6/8 [00:01<00:00,  3.34it/s]\n",
      "Loading safetensors checkpoint shards:  88% Completed | 7/8 [00:02<00:00,  3.21it/s]\n"
     ]
    },
    {
     "name": "stdout",
     "output_type": "stream",
     "text": [
      "\u001b[1;36m(VllmWorker rank=3 pid=50024)\u001b[0;0m INFO 07-03 17:07:55 [default_loader.py:272] Loading weights took 2.42 seconds\n",
      "\u001b[1;36m(VllmWorker rank=1 pid=50020)\u001b[0;0m INFO 07-03 17:07:55 [default_loader.py:272] Loading weights took 2.34 seconds\n",
      "\u001b[1;36m(VllmWorker rank=2 pid=50021)\u001b[0;0m INFO 07-03 17:07:55 [default_loader.py:272] Loading weights took 2.38 seconds\n",
      "\u001b[1;36m(VllmWorker rank=0 pid=50019)\u001b[0;0m INFO 07-03 17:07:55 [default_loader.py:272] Loading weights took 2.37 seconds\n"
     ]
    },
    {
     "name": "stderr",
     "output_type": "stream",
     "text": [
      "Loading safetensors checkpoint shards: 100% Completed | 8/8 [00:02<00:00,  3.16it/s]\n",
      "Loading safetensors checkpoint shards: 100% Completed | 8/8 [00:02<00:00,  3.42it/s]\n",
      "\u001b[1;36m(VllmWorker rank=0 pid=50019)\u001b[0;0m \n"
     ]
    },
    {
     "name": "stdout",
     "output_type": "stream",
     "text": [
      "\u001b[1;36m(VllmWorker rank=3 pid=50024)\u001b[0;0m INFO 07-03 17:07:55 [gpu_model_runner.py:1624] Model loading took 6.9461 GiB and 2.819862 seconds\n",
      "\u001b[1;36m(VllmWorker rank=1 pid=50020)\u001b[0;0m INFO 07-03 17:07:56 [gpu_model_runner.py:1624] Model loading took 6.9461 GiB and 2.894747 seconds\n",
      "\u001b[1;36m(VllmWorker rank=2 pid=50021)\u001b[0;0m INFO 07-03 17:07:56 [gpu_model_runner.py:1624] Model loading took 6.9461 GiB and 3.029783 seconds\n",
      "\u001b[1;36m(VllmWorker rank=0 pid=50019)\u001b[0;0m INFO 07-03 17:07:56 [gpu_model_runner.py:1624] Model loading took 6.9461 GiB and 3.120032 seconds\n",
      "\u001b[1;36m(VllmWorker rank=3 pid=50024)\u001b[0;0m INFO 07-03 17:08:05 [backends.py:462] Using cache directory: /home/ubuntu/.cache/vllm/torch_compile_cache/a3b60490c8/rank_3_0 for vLLM's torch.compile\n",
      "\u001b[1;36m(VllmWorker rank=3 pid=50024)\u001b[0;0m INFO 07-03 17:08:05 [backends.py:472] Dynamo bytecode transform time: 9.09 s\n",
      "\u001b[1;36m(VllmWorker rank=1 pid=50020)\u001b[0;0m INFO 07-03 17:08:05 [backends.py:462] Using cache directory: /home/ubuntu/.cache/vllm/torch_compile_cache/a3b60490c8/rank_1_0 for vLLM's torch.compile\n",
      "\u001b[1;36m(VllmWorker rank=2 pid=50021)\u001b[0;0m INFO 07-03 17:08:05 [backends.py:462] Using cache directory: /home/ubuntu/.cache/vllm/torch_compile_cache/a3b60490c8/rank_2_0 for vLLM's torch.compile\n",
      "\u001b[1;36m(VllmWorker rank=1 pid=50020)\u001b[0;0m INFO 07-03 17:08:05 [backends.py:472] Dynamo bytecode transform time: 9.11 s\n",
      "\u001b[1;36m(VllmWorker rank=2 pid=50021)\u001b[0;0m INFO 07-03 17:08:05 [backends.py:472] Dynamo bytecode transform time: 9.11 s\n",
      "\u001b[1;36m(VllmWorker rank=0 pid=50019)\u001b[0;0m INFO 07-03 17:08:05 [backends.py:462] Using cache directory: /home/ubuntu/.cache/vllm/torch_compile_cache/a3b60490c8/rank_0_0 for vLLM's torch.compile\n",
      "\u001b[1;36m(VllmWorker rank=0 pid=50019)\u001b[0;0m INFO 07-03 17:08:05 [backends.py:472] Dynamo bytecode transform time: 9.20 s\n",
      "\u001b[1;36m(VllmWorker rank=1 pid=50020)\u001b[0;0m INFO 07-03 17:08:13 [backends.py:135] Directly load the compiled graph(s) for shape None from the cache, took 7.389 s\n",
      "\u001b[1;36m(VllmWorker rank=2 pid=50021)\u001b[0;0m INFO 07-03 17:08:13 [backends.py:135] Directly load the compiled graph(s) for shape None from the cache, took 7.430 s\n",
      "\u001b[1;36m(VllmWorker rank=3 pid=50024)\u001b[0;0m INFO 07-03 17:08:13 [backends.py:135] Directly load the compiled graph(s) for shape None from the cache, took 7.456 s\n",
      "\u001b[1;36m(VllmWorker rank=0 pid=50019)\u001b[0;0m INFO 07-03 17:08:13 [backends.py:135] Directly load the compiled graph(s) for shape None from the cache, took 7.402 s\n",
      "\u001b[1;36m(VllmWorker rank=0 pid=50019)\u001b[0;0m INFO 07-03 17:08:15 [monitor.py:34] torch.compile takes 9.20 s in total\n",
      "\u001b[1;36m(VllmWorker rank=2 pid=50021)\u001b[0;0m INFO 07-03 17:08:15 [monitor.py:34] torch.compile takes 9.11 s in total\n",
      "\u001b[1;36m(VllmWorker rank=1 pid=50020)\u001b[0;0m INFO 07-03 17:08:15 [monitor.py:34] torch.compile takes 9.11 s in total\n",
      "\u001b[1;36m(VllmWorker rank=3 pid=50024)\u001b[0;0m INFO 07-03 17:08:15 [monitor.py:34] torch.compile takes 9.09 s in total\n",
      "\u001b[1;36m(VllmWorker rank=3 pid=50024)\u001b[0;0m INFO 07-03 17:08:16 [gpu_worker.py:227] Available KV cache memory: 44.96 GiB\n",
      "\u001b[1;36m(VllmWorker rank=1 pid=50020)\u001b[0;0m INFO 07-03 17:08:16 [gpu_worker.py:227] Available KV cache memory: 44.49 GiB\n",
      "\u001b[1;36m(VllmWorker rank=0 pid=50019)\u001b[0;0m INFO 07-03 17:08:16 [gpu_worker.py:227] Available KV cache memory: 44.59 GiB\n",
      "\u001b[1;36m(VllmWorker rank=2 pid=50021)\u001b[0;0m INFO 07-03 17:08:16 [gpu_worker.py:227] Available KV cache memory: 44.49 GiB\n",
      "INFO 07-03 17:08:16 [kv_cache_utils.py:715] GPU KV cache size: 974,000 tokens\n",
      "INFO 07-03 17:08:16 [kv_cache_utils.py:719] Maximum concurrency for 32,768 tokens per request: 29.72x\n",
      "INFO 07-03 17:08:16 [kv_cache_utils.py:715] GPU KV cache size: 971,952 tokens\n",
      "INFO 07-03 17:08:16 [kv_cache_utils.py:719] Maximum concurrency for 32,768 tokens per request: 29.66x\n",
      "INFO 07-03 17:08:16 [kv_cache_utils.py:715] GPU KV cache size: 971,952 tokens\n",
      "INFO 07-03 17:08:16 [kv_cache_utils.py:719] Maximum concurrency for 32,768 tokens per request: 29.66x\n",
      "INFO 07-03 17:08:16 [kv_cache_utils.py:715] GPU KV cache size: 982,192 tokens\n",
      "INFO 07-03 17:08:16 [kv_cache_utils.py:719] Maximum concurrency for 32,768 tokens per request: 29.97x\n",
      "\u001b[1;36m(VllmWorker rank=1 pid=50020)\u001b[0;0m INFO 07-03 17:08:40 [custom_all_reduce.py:196] Registering 6499 cuda graph addresses\n",
      "\u001b[1;36m(VllmWorker rank=3 pid=50024)\u001b[0;0m INFO 07-03 17:08:40 [custom_all_reduce.py:196] Registering 6499 cuda graph addresses\n",
      "\u001b[1;36m(VllmWorker rank=2 pid=50021)\u001b[0;0m INFO 07-03 17:08:40 [custom_all_reduce.py:196] Registering 6499 cuda graph addresses\n",
      "\u001b[1;36m(VllmWorker rank=0 pid=50019)\u001b[0;0m INFO 07-03 17:08:40 [custom_all_reduce.py:196] Registering 6499 cuda graph addresses\n",
      "\u001b[1;36m(VllmWorker rank=3 pid=50024)\u001b[0;0m INFO 07-03 17:08:40 [gpu_model_runner.py:2048] Graph capturing finished in 24 secs, took 0.81 GiB\n",
      "\u001b[1;36m(VllmWorker rank=2 pid=50021)\u001b[0;0m INFO 07-03 17:08:40 [gpu_model_runner.py:2048] Graph capturing finished in 24 secs, took 0.81 GiB\n",
      "\u001b[1;36m(VllmWorker rank=1 pid=50020)\u001b[0;0m INFO 07-03 17:08:40 [gpu_model_runner.py:2048] Graph capturing finished in 24 secs, took 0.81 GiB\n",
      "\u001b[1;36m(VllmWorker rank=0 pid=50019)\u001b[0;0m INFO 07-03 17:08:40 [gpu_model_runner.py:2048] Graph capturing finished in 24 secs, took 0.81 GiB\n",
      "INFO 07-03 17:08:40 [core.py:171] init engine (profile, create kv cache, warmup model) took 44.70 seconds\n",
      "INFO 07-03 17:08:41 [loggers.py:137] Engine 000: vllm cache_config_info with initialization after num_gpu_blocks is: 60747\n",
      "Loading training tasks...\n",
      "Training on 4 tasks\n",
      "Validation on 85 tasks\n"
     ]
    },
    {
     "data": {
      "application/vnd.jupyter.widget-view+json": {
       "model_id": "50c01d6d6ef14833a9b3136eb2aaa1f6",
       "version_major": 2,
       "version_minor": 0
      },
      "text/plain": [
       "Iterating dataset:   0%|          | 0/1000 [00:00<?, ?batch/s]"
      ]
     },
     "metadata": {},
     "output_type": "display_data"
    },
    {
     "name": "stdout",
     "output_type": "stream",
     "text": [
      "\n",
      "--- Training Step 0 (Epoch 0, Step 0) ---\n",
      "Generating trajectories for 4 tasks...\n"
     ]
    },
    {
     "data": {
      "application/vnd.jupyter.widget-view+json": {
       "model_id": "98d9c51ec01b4de4a4502169c442d9c8",
       "version_major": 2,
       "version_minor": 0
      },
      "text/plain": [
       "gather:   0%|          | 0/256 [00:00<?, ?it/s]"
      ]
     },
     "metadata": {},
     "output_type": "display_data"
    },
    {
     "name": "stdout",
     "output_type": "stream",
     "text": [
      "\n",
      "\u001b[1;31mGive Feedback / Get Help: https://github.com/BerriAI/litellm/issues/new\u001b[0m\n",
      "LiteLLM.Info: If you need to debug this error, use `litellm._turn_on_debug()'.\n",
      "\n",
      "Error in rollout for task 2: litellm.InternalServerError: InternalServerError: Hosted_vllmException - Connection error.\n",
      "\n",
      "\u001b[1;31mGive Feedback / Get Help: https://github.com/BerriAI/litellm/issues/new\u001b[0m\n",
      "LiteLLM.Info: If you need to debug this error, use `litellm._turn_on_debug()'.\n",
      "\n",
      "Error in rollout for task 1: litellm.InternalServerError: InternalServerError: Hosted_vllmException - Connection error.\n",
      "Training on 4 trajectory groups...\n",
      "Packed 254 trajectories into 164 sequences of length 16384\n"
     ]
    },
    {
     "data": {
      "application/vnd.jupyter.widget-view+json": {
       "model_id": "ee76713d000b4a4d8edf614d53a091b4",
       "version_major": 2,
       "version_minor": 0
      },
      "text/plain": [
       "train:   0%|          | 0/41 [00:00<?, ?it/s]"
      ]
     },
     "metadata": {},
     "output_type": "display_data"
    },
    {
     "name": "stdout",
     "output_type": "stream",
     "text": [
      "Step 0: Average training reward = 0.421875\n",
      "\n",
      "--- Training Step 1 (Epoch 1, Step 0) ---\n",
      "Generating trajectories for 4 tasks...\n"
     ]
    },
    {
     "data": {
      "application/vnd.jupyter.widget-view+json": {
       "model_id": "a476ea654b0c419bbd7703d44d761ace",
       "version_major": 2,
       "version_minor": 0
      },
      "text/plain": [
       "gather:   0%|          | 0/256 [00:00<?, ?it/s]"
      ]
     },
     "metadata": {},
     "output_type": "display_data"
    },
    {
     "name": "stdout",
     "output_type": "stream",
     "text": [
      "Training on 4 trajectory groups...\n",
      "Packed 256 trajectories into 123 sequences of length 18432\n"
     ]
    },
    {
     "data": {
      "application/vnd.jupyter.widget-view+json": {
       "model_id": "4f02742c3cc54ba6b661e02ed4ab5494",
       "version_major": 2,
       "version_minor": 0
      },
      "text/plain": [
       "train:   0%|          | 0/31 [00:00<?, ?it/s]"
      ]
     },
     "metadata": {},
     "output_type": "display_data"
    },
    {
     "name": "stdout",
     "output_type": "stream",
     "text": [
      "Step 1: Average training reward = 0.38671875\n",
      "\n",
      "--- Training Step 2 (Epoch 2, Step 0) ---\n",
      "Generating trajectories for 4 tasks...\n"
     ]
    },
    {
     "data": {
      "application/vnd.jupyter.widget-view+json": {
       "model_id": "6431c1266b944527bc980e831835e8d0",
       "version_major": 2,
       "version_minor": 0
      },
      "text/plain": [
       "gather:   0%|          | 0/256 [00:00<?, ?it/s]"
      ]
     },
     "metadata": {},
     "output_type": "display_data"
    },
    {
     "name": "stdout",
     "output_type": "stream",
     "text": [
      "Training on 4 trajectory groups...\n",
      "Packed 256 trajectories into 161 sequences of length 16384\n"
     ]
    },
    {
     "data": {
      "application/vnd.jupyter.widget-view+json": {
       "model_id": "88e79226691547c79434b64024083854",
       "version_major": 2,
       "version_minor": 0
      },
      "text/plain": [
       "train:   0%|          | 0/41 [00:00<?, ?it/s]"
      ]
     },
     "metadata": {},
     "output_type": "display_data"
    },
    {
     "name": "stdout",
     "output_type": "stream",
     "text": [
      "Step 2: Average training reward = 0.44921875\n",
      "\n",
      "--- Training Step 3 (Epoch 3, Step 0) ---\n",
      "Generating trajectories for 4 tasks...\n"
     ]
    },
    {
     "data": {
      "application/vnd.jupyter.widget-view+json": {
       "model_id": "c956cb66228c4ec6af5bea5ed1de60d5",
       "version_major": 2,
       "version_minor": 0
      },
      "text/plain": [
       "gather:   0%|          | 0/256 [00:00<?, ?it/s]"
      ]
     },
     "metadata": {},
     "output_type": "display_data"
    },
    {
     "name": "stdout",
     "output_type": "stream",
     "text": [
      "Training on 4 trajectory groups...\n",
      "Packed 256 trajectories into 162 sequences of length 16384\n"
     ]
    },
    {
     "data": {
      "application/vnd.jupyter.widget-view+json": {
       "model_id": "9ddc52e2e8574d5a87aa5f628b4b9fe0",
       "version_major": 2,
       "version_minor": 0
      },
      "text/plain": [
       "train:   0%|          | 0/41 [00:00<?, ?it/s]"
      ]
     },
     "metadata": {},
     "output_type": "display_data"
    },
    {
     "name": "stdout",
     "output_type": "stream",
     "text": [
      "Step 3: Average training reward = 0.3984375\n",
      "\n",
      "--- Training Step 4 (Epoch 4, Step 0) ---\n",
      "Generating trajectories for 4 tasks...\n"
     ]
    },
    {
     "data": {
      "application/vnd.jupyter.widget-view+json": {
       "model_id": "2df03dbeb64f4f21b7a8651e6e3e4698",
       "version_major": 2,
       "version_minor": 0
      },
      "text/plain": [
       "gather:   0%|          | 0/256 [00:00<?, ?it/s]"
      ]
     },
     "metadata": {},
     "output_type": "display_data"
    },
    {
     "name": "stdout",
     "output_type": "stream",
     "text": [
      "Training on 4 trajectory groups...\n",
      "Packed 256 trajectories into 164 sequences of length 16384\n"
     ]
    },
    {
     "data": {
      "application/vnd.jupyter.widget-view+json": {
       "model_id": "ad47c128d752425e99a9911fbf4afe30",
       "version_major": 2,
       "version_minor": 0
      },
      "text/plain": [
       "train:   0%|          | 0/41 [00:00<?, ?it/s]"
      ]
     },
     "metadata": {},
     "output_type": "display_data"
    },
    {
     "name": "stdout",
     "output_type": "stream",
     "text": [
      "Step 4: Average training reward = 0.4453125\n",
      "\n",
      "--- Training Step 5 (Epoch 5, Step 0) ---\n",
      "Generating trajectories for 4 tasks...\n"
     ]
    },
    {
     "data": {
      "application/vnd.jupyter.widget-view+json": {
       "model_id": "8ed370d5d26745da85d02d80d43a84d0",
       "version_major": 2,
       "version_minor": 0
      },
      "text/plain": [
       "gather:   0%|          | 0/256 [00:00<?, ?it/s]"
      ]
     },
     "metadata": {},
     "output_type": "display_data"
    },
    {
     "name": "stdout",
     "output_type": "stream",
     "text": [
      "Training on 4 trajectory groups...\n",
      "Packed 256 trajectories into 156 sequences of length 16384\n"
     ]
    },
    {
     "data": {
      "application/vnd.jupyter.widget-view+json": {
       "model_id": "fe098c822ed94c6f85ac7ecfcd947471",
       "version_major": 2,
       "version_minor": 0
      },
      "text/plain": [
       "train:   0%|          | 0/39 [00:00<?, ?it/s]"
      ]
     },
     "metadata": {},
     "output_type": "display_data"
    },
    {
     "name": "stdout",
     "output_type": "stream",
     "text": [
      "Step 5: Average training reward = 0.4609375\n",
      "\n",
      "--- Training Step 6 (Epoch 6, Step 0) ---\n",
      "Generating trajectories for 4 tasks...\n"
     ]
    },
    {
     "data": {
      "application/vnd.jupyter.widget-view+json": {
       "model_id": "4704339020014e8ca5910355cdf56cbb",
       "version_major": 2,
       "version_minor": 0
      },
      "text/plain": [
       "gather:   0%|          | 0/256 [00:00<?, ?it/s]"
      ]
     },
     "metadata": {},
     "output_type": "display_data"
    },
    {
     "name": "stderr",
     "output_type": "stream",
     "text": [
      "ERROR:asyncio:Unclosed client session\n",
      "client_session: <aiohttp.client.ClientSession object at 0x7f7f66646690>\n",
      "ERROR:asyncio:Unclosed client session\n",
      "client_session: <aiohttp.client.ClientSession object at 0x7f7fa4bc5410>\n"
     ]
    },
    {
     "name": "stdout",
     "output_type": "stream",
     "text": [
      "Training on 4 trajectory groups...\n",
      "Packed 256 trajectories into 218 sequences of length 14336\n"
     ]
    },
    {
     "data": {
      "application/vnd.jupyter.widget-view+json": {
       "model_id": "7cb1ca57925e4a1bb472e2600c8fe81c",
       "version_major": 2,
       "version_minor": 0
      },
      "text/plain": [
       "train:   0%|          | 0/55 [00:00<?, ?it/s]"
      ]
     },
     "metadata": {},
     "output_type": "display_data"
    },
    {
     "name": "stdout",
     "output_type": "stream",
     "text": [
      "Step 6: Average training reward = 0.5\n",
      "\n",
      "--- Training Step 7 (Epoch 7, Step 0) ---\n",
      "Generating trajectories for 4 tasks...\n"
     ]
    },
    {
     "data": {
      "application/vnd.jupyter.widget-view+json": {
       "model_id": "93fa49ee5a3647959f13fca1c1174f68",
       "version_major": 2,
       "version_minor": 0
      },
      "text/plain": [
       "gather:   0%|          | 0/256 [00:00<?, ?it/s]"
      ]
     },
     "metadata": {},
     "output_type": "display_data"
    },
    {
     "name": "stdout",
     "output_type": "stream",
     "text": [
      "Training on 4 trajectory groups...\n",
      "Packed 256 trajectories into 125 sequences of length 18432\n"
     ]
    },
    {
     "data": {
      "application/vnd.jupyter.widget-view+json": {
       "model_id": "6352cbcc9f1044548ccfa96e46b0c1bf",
       "version_major": 2,
       "version_minor": 0
      },
      "text/plain": [
       "train:   0%|          | 0/32 [00:00<?, ?it/s]"
      ]
     },
     "metadata": {},
     "output_type": "display_data"
    },
    {
     "name": "stdout",
     "output_type": "stream",
     "text": [
      "Step 7: Average training reward = 0.46875\n",
      "\n",
      "--- Training Step 8 (Epoch 8, Step 0) ---\n",
      "Generating trajectories for 4 tasks...\n"
     ]
    },
    {
     "data": {
      "application/vnd.jupyter.widget-view+json": {
       "model_id": "05e1a4aa3e5d4f8c89a812b4ae3b851f",
       "version_major": 2,
       "version_minor": 0
      },
      "text/plain": [
       "gather:   0%|          | 0/256 [00:00<?, ?it/s]"
      ]
     },
     "metadata": {},
     "output_type": "display_data"
    },
    {
     "name": "stdout",
     "output_type": "stream",
     "text": [
      "Error logging trajectory to openpipe: Server disconnected without sending a response.\n",
      "Training on 4 trajectory groups...\n",
      "Packed 256 trajectories into 227 sequences of length 14336\n"
     ]
    },
    {
     "data": {
      "application/vnd.jupyter.widget-view+json": {
       "model_id": "783c2701b0ce45e89acb37f10c2a083d",
       "version_major": 2,
       "version_minor": 0
      },
      "text/plain": [
       "train:   0%|          | 0/57 [00:00<?, ?it/s]"
      ]
     },
     "metadata": {},
     "output_type": "display_data"
    }
   ],
   "source": [
    "import art\n",
    "from dotenv import load_dotenv\n",
    "from tau_bench.types import TauBenchPolicyConfig, TauBenchTrainingConfig\n",
    "from run_rl import train\n",
    "from run import RunConfig\n",
    "import torch\n",
    "\n",
    "load_dotenv()\n",
    "\n",
    "MODEL_NAME = \"002\"\n",
    "model = art.TrainableModel(\n",
    "    name=MODEL_NAME,\n",
    "    project=\"tau-bench\",\n",
    "    base_model=\"Qwen/Qwen2.5-14B-Instruct\",\n",
    "    config=TauBenchPolicyConfig(\n",
    "        training_config=TauBenchTrainingConfig(\n",
    "            trajectories_per_group=64,\n",
    "            groups_per_step=4,\n",
    "            learning_rate=1e-6,\n",
    "            eval_steps=1000,\n",
    "            val_set_size=85,\n",
    "            training_dataset_size=4,\n",
    "            num_epochs=1000,\n",
    "            train_mode=\"sync_rl\",\n",
    "        ),\n",
    "        run_config=RunConfig(\n",
    "            model_provider=\"hosted_vllm\",\n",
    "            user_model_provider=\"openai\",\n",
    "            model=MODEL_NAME,\n",
    "            user_model=\"gpt-4o\",\n",
    "            agent_strategy=\"tool-calling-rl\",\n",
    "            temperature=1.0,\n",
    "            task_split=\"test\",\n",
    "            log_dir=\"rl_results\",\n",
    "            skip_eval=True,\n",
    "        ),\n",
    "    ),\n",
    "    _internal_config=art.dev.InternalModelConfig(\n",
    "        engine_args=art.dev.EngineArgs(\n",
    "            tensor_parallel_size=torch.cuda.device_count(), gpu_memory_utilization=0.75\n",
    "        ),\n",
    "        torchtune_args=art.dev.TorchtuneArgs(\n",
    "            model=\"qwen2_5_14b_instruct\", model_type=\"QWEN2\", async_weight_syncing=True\n",
    "        ),\n",
    "    ),\n",
    ")\n",
    "await train(model)"
   ]
  }
 ],
 "metadata": {
  "kernelspec": {
   "display_name": ".venv",
   "language": "python",
   "name": "python3"
  },
  "language_info": {
   "codemirror_mode": {
    "name": "ipython",
    "version": 3
   },
   "file_extension": ".py",
   "mimetype": "text/x-python",
   "name": "python",
   "nbconvert_exporter": "python",
   "pygments_lexer": "ipython3",
   "version": "3.11.13"
  }
 },
 "nbformat": 4,
 "nbformat_minor": 5
}
